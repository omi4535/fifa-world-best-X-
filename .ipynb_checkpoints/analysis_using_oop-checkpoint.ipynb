{
 "cells": [
  {
   "cell_type": "code",
   "execution_count": 1,
   "id": "3f7e5ff4",
   "metadata": {},
   "outputs": [],
   "source": [
    "from matplotlib import pyplot as plt\n",
    "import seaborn as sns\n",
    "import pandas as pd\n",
    "import numpy as np"
   ]
  },
  {
   "cell_type": "markdown",
   "id": "ab0598fd",
   "metadata": {},
   "source": [
    "# batsman class"
   ]
  },
  {
   "cell_type": "code",
   "execution_count": 2,
   "id": "02403af8",
   "metadata": {},
   "outputs": [],
   "source": [
    "class batsman:\n",
    "    data=pd.read_csv('Batsman_Data.csv',sep=\",\")\n",
    "    df=pd.DataFrame(data)"
   ]
  },
  {
   "cell_type": "markdown",
   "id": "84edbb3f",
   "metadata": {},
   "source": [
    "# Bolwer class"
   ]
  },
  {
   "cell_type": "code",
   "execution_count": 3,
   "id": "a568dcd5",
   "metadata": {},
   "outputs": [],
   "source": [
    "class bowler:\n",
    "    data=pd.read_csv('Bowler_data.csv',sep=\",\")\n",
    "    df=pd.DataFrame(data) "
   ]
  },
  {
   "cell_type": "markdown",
   "id": "0a492ae7",
   "metadata": {},
   "source": [
    "# ground class"
   ]
  },
  {
   "cell_type": "code",
   "execution_count": 4,
   "id": "13e9becf",
   "metadata": {},
   "outputs": [],
   "source": [
    "class grounds:\n",
    "    data=pd.read_csv('Ground_Averages.csv',sep=\",\")\n",
    "    df=pd.DataFrame(data)"
   ]
  },
  {
   "cell_type": "markdown",
   "id": "4838c29d",
   "metadata": {},
   "source": [
    "# result class"
   ]
  },
  {
   "cell_type": "code",
   "execution_count": 5,
   "id": "7958b549",
   "metadata": {},
   "outputs": [],
   "source": [
    "class result:\n",
    "    data=pd.read_csv('ODI_Match_Results.csv',sep=\",\")\n",
    "    df=pd.DataFrame(data)"
   ]
  },
  {
   "cell_type": "markdown",
   "id": "1cf69f91",
   "metadata": {},
   "source": [
    "# matches class "
   ]
  },
  {
   "cell_type": "code",
   "execution_count": 6,
   "id": "4693b996",
   "metadata": {},
   "outputs": [],
   "source": [
    "class matches:\n",
    "    data=pd.read_csv('ODI_Match_Totals.csv',sep=\",\")\n",
    "    df=pd.DataFrame(data)"
   ]
  },
  {
   "cell_type": "markdown",
   "id": "f199b796",
   "metadata": {},
   "source": [
    "# players class "
   ]
  },
  {
   "cell_type": "code",
   "execution_count": 7,
   "id": "b429045b",
   "metadata": {},
   "outputs": [],
   "source": [
    "class players:\n",
    "    data=pd.read_csv('WC_players.csv',sep=\",\")\n",
    "    df=pd.DataFrame(data)"
   ]
  },
  {
   "cell_type": "markdown",
   "id": "2c88c6cf",
   "metadata": {},
   "source": [
    "# objects"
   ]
  },
  {
   "cell_type": "code",
   "execution_count": 10,
   "id": "c8839643",
   "metadata": {},
   "outputs": [],
   "source": [
    "bat=batsman()\n",
    "ball=bowler()\n",
    "ground = grounds()\n",
    "match=matches()\n",
    "player=players()"
   ]
  },
  {
   "cell_type": "markdown",
   "id": "8811d5b0",
   "metadata": {},
   "source": [
    "# runs wkts 4s and 6s ana"
   ]
  }
 ],
 "metadata": {
  "kernelspec": {
   "display_name": "Python 3 (ipykernel)",
   "language": "python",
   "name": "python3"
  },
  "language_info": {
   "codemirror_mode": {
    "name": "ipython",
    "version": 3
   },
   "file_extension": ".py",
   "mimetype": "text/x-python",
   "name": "python",
   "nbconvert_exporter": "python",
   "pygments_lexer": "ipython3",
   "version": "3.10.5"
  }
 },
 "nbformat": 4,
 "nbformat_minor": 5
}
