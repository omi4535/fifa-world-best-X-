{
 "cells": [
  {
   "cell_type": "code",
   "execution_count": 5,
   "id": "cfaf3850",
   "metadata": {},
   "outputs": [],
   "source": [
    "from matplotlib import pyplot as plt\n",
    "import seaborn as sns\n",
    "import pandas as pd\n",
    "import numpy as np\n",
    "batsman_Data=pd.read_csv('Batsman_Data.csv',sep=\",\")\n",
    "batsman_Data=pd.DataFrame(batsman_Data)\n",
    "Bowler_data=pd.read_csv('Bowler_data.csv',sep=\",\")\n",
    "Bowler_data=pd.DataFrame(Bowler_data)\n",
    "Ground_Averages=pd.read_csv('Ground_Averages.csv',sep=\",\")\n",
    "Ground_Averages=pd.DataFrame(Ground_Averages)\n",
    "ODI_Match_Results=pd.read_csv('ODI_Match_Results.csv',sep=\",\")\n",
    "ODI_Match_Results=pd.DataFrame(ODI_Match_Results)\n",
    "ODI_Match_Totals=pd.read_csv('ODI_Match_Totals.csv',sep=\",\")\n",
    "ODI_Match_Totals=pd.DataFrame(ODI_Match_Totals)\n",
    "WC_players=pd.read_csv('WC_players.csv',sep=\",\")\n",
    "WC_players=pd.DataFrame(WC_players)\n"
   ]
  },
  {
   "cell_type": "markdown",
   "id": "dd337a4d",
   "metadata": {},
   "source": [
    "# Total Runs and Wickets"
   ]
  },
  {
   "cell_type": "code",
   "execution_count": 6,
   "id": "25fc4c52",
   "metadata": {},
   "outputs": [
    {
     "ename": "NameError",
     "evalue": "name 'batsman_data' is not defined",
     "output_type": "error",
     "traceback": [
      "\u001b[1;31m---------------------------------------------------------------------------\u001b[0m",
      "\u001b[1;31mNameError\u001b[0m                                 Traceback (most recent call last)",
      "Input \u001b[1;32mIn [6]\u001b[0m, in \u001b[0;36m<cell line: 3>\u001b[1;34m()\u001b[0m\n\u001b[0;32m      1\u001b[0m \u001b[38;5;66;03m# Total Runs and Wickets\u001b[39;00m\n\u001b[1;32m----> 3\u001b[0m total_runs\u001b[38;5;241m=\u001b[39m\u001b[38;5;28msum\u001b[39m(\u001b[43mbatsman_data\u001b[49m[\u001b[38;5;124m'\u001b[39m\u001b[38;5;124mRuns\u001b[39m\u001b[38;5;124m'\u001b[39m])\n\u001b[0;32m      4\u001b[0m total_Wkts\u001b[38;5;241m=\u001b[39m\u001b[38;5;28msum\u001b[39m(Bowler_data[\u001b[38;5;124m'\u001b[39m\u001b[38;5;124mWkts\u001b[39m\u001b[38;5;124m'\u001b[39m])\n\u001b[0;32m      6\u001b[0m \u001b[38;5;66;03m# Total overs and median overs\u001b[39;00m\n",
      "\u001b[1;31mNameError\u001b[0m: name 'batsman_data' is not defined"
     ]
    }
   ],
   "source": [
    "# Total Runs and Wickets\n",
    "\n",
    "total_runs=sum(batsman_data['Runs'])\n",
    "total_Wkts=sum(Bowler_data['Wkts'])\n",
    "\n",
    "# Total overs and median overs\n",
    "\n",
    "total_Overs=sum(Bowler_data['Overs'])\n",
    "total_Mdns=sum(Bowler_data['Mdns'])\n",
    "\n",
    "# Total no of sixs and fours \n",
    "\n",
    "total_6s=sum(batsman_data['6s'])\n",
    "total_4s=sum(batsman_data['4s'])"
   ]
  },
  {
   "cell_type": "code",
   "execution_count": null,
   "id": "41da69f6",
   "metadata": {},
   "outputs": [],
   "source": [
    "print(\"Total runs score by all batsmans :: \",batsman.total_runs,\" Runs\")\n",
    "print(\"Total wickets by all blowers :: \",total_Wkts,\" Wickets\")\n",
    "print(\"Total no Overs :: \",round(total_Wkts,5),\" Overs\")\n",
    "print(\"Total no medain Overs :: \",round(total_Mdns,5),\"  median Overs\")\n",
    "print(\"Total no of sixs :: \",batsman.total_6s,\" sixs..\")\n",
    "print(\"Total no of fours :: \",batsman.total_4s,\" fours..\")"
   ]
  },
  {
   "cell_type": "markdown",
   "id": "d643caf7",
   "metadata": {},
   "source": [
    "# no of players from each country\n"
   ]
  },
  {
   "cell_type": "code",
   "execution_count": null,
   "id": "94e1a22e",
   "metadata": {},
   "outputs": [],
   "source": [
    "sns.countplot(y=WC_players.Country)"
   ]
  },
  {
   "cell_type": "markdown",
   "id": "89455b3d",
   "metadata": {},
   "source": [
    "# matchs played in each team\n",
    "## From 3- jan -2013 TO 19- May-2019"
   ]
  },
  {
   "cell_type": "code",
   "execution_count": null,
   "id": "8b1cfce3",
   "metadata": {},
   "outputs": [],
   "source": [
    "sns.countplot(y=ODI_Match_Totals.Country)"
   ]
  },
  {
   "cell_type": "markdown",
   "id": "d0ab1513",
   "metadata": {},
   "source": [
    "# matches played since jan-2013 to may-2019"
   ]
  },
  {
   "cell_type": "code",
   "execution_count": null,
   "id": "76331eb9",
   "metadata": {},
   "outputs": [],
   "source": [
    "sns.countplot(y=(ODI_Match_Totals.Country))"
   ]
  },
  {
   "cell_type": "code",
   "execution_count": null,
   "id": "17b580c5",
   "metadata": {},
   "outputs": [],
   "source": [
    "most_matches={1:\"Sri Lanka\",2:\"India\",3:\"England\"}\n",
    "print(\"most matches are played by :: \",most_matches[1])\n",
    "print(\"2nd :: \",most_matches[2])\n",
    "print(\"3rd :: \",most_matches[3])"
   ]
  },
  {
   "cell_type": "markdown",
   "id": "61b17821",
   "metadata": {},
   "source": [
    "# highest scoring ground"
   ]
  },
  {
   "cell_type": "code",
   "execution_count": null,
   "id": "c5fa722b",
   "metadata": {
    "scrolled": true
   },
   "outputs": [],
   "source": [
    "sns.catplot(x=\"Runs\",y=\"Ground\",data=batsman_data.nlargest(30,'Runs'),kind=\"bar\")\n",
    "plt.title(\"highest scoring ground\")"
   ]
  },
  {
   "cell_type": "code",
   "execution_count": null,
   "id": "8eb24da8",
   "metadata": {},
   "outputs": [],
   "source": [
    "print(\"from graph of highest scoring ground we have  ranking as :: \")\n",
    "high_scoring_ground={1:\"Kolkata\",2:\"wellington\",3:\"Canberra\"}\n",
    "print(\"1st ::\",high_scoring_ground[1])\n",
    "print(\"2nd ::\",high_scoring_ground[2])\n",
    "print(\"3rd ::\",high_scoring_ground[3])"
   ]
  },
  {
   "cell_type": "markdown",
   "id": "3ab92489",
   "metadata": {},
   "source": [
    "# heighest wicket taking ground"
   ]
  },
  {
   "cell_type": "code",
   "execution_count": null,
   "id": "81adf373",
   "metadata": {},
   "outputs": [],
   "source": [
    "sns.catplot(x=\"Wkts\",y=\"Ground\",data=Bowler_data.nlargest(30,'Wkts'),kind=\"bar\")\n",
    "plt.title(\"highest wickets taking ground\")"
   ]
  },
  {
   "cell_type": "code",
   "execution_count": null,
   "id": "2fdf08e7",
   "metadata": {},
   "outputs": [],
   "source": [
    "print(\"from graph of highest wicket taking ground we have  ranking as :: \")\n",
    "high_wicket_tacking_ground={1:\"Basseterre\",2:\"christichurch\",3:\"wellington\"}\n",
    "print(\"1st ::\",high_wicket_tacking_ground[1])\n",
    "print(\"2nd ::\",high_wicket_tacking_ground[2])\n",
    "print(\"3rd ::\",high_wicket_tacking_ground[3])"
   ]
  },
  {
   "cell_type": "markdown",
   "id": "df76e6d6",
   "metadata": {},
   "source": [
    "# players to play most matches\n"
   ]
  },
  {
   "cell_type": "code",
   "execution_count": null,
   "id": "26aa7e0e",
   "metadata": {
    "scrolled": false
   },
   "outputs": [],
   "source": [
    "new = batsman_data['Batsman'].value_counts()[:100]\n",
    "h_match_played=pd.DataFrame(new)\n",
    "h_match_played"
   ]
  },
  {
   "cell_type": "markdown",
   "id": "ed9823ae",
   "metadata": {},
   "source": [
    "# Batsmans induvidual data"
   ]
  },
  {
   "cell_type": "code",
   "execution_count": null,
   "id": "53656276",
   "metadata": {},
   "outputs": [],
   "source": [
    "bd_opposition = batsman_data.query('Opposition ==\"v England\" and Batsman==\"MS Dhoni \"')\n",
    "bd_opposition\n",
    "#sum(bd_opposition.Runs)"
   ]
  },
  {
   "cell_type": "code",
   "execution_count": null,
   "id": "95d01d31",
   "metadata": {},
   "outputs": [],
   "source": []
  }
 ],
 "metadata": {
  "kernelspec": {
   "display_name": "Python 3 (ipykernel)",
   "language": "python",
   "name": "python3"
  },
  "language_info": {
   "codemirror_mode": {
    "name": "ipython",
    "version": 3
   },
   "file_extension": ".py",
   "mimetype": "text/x-python",
   "name": "python",
   "nbconvert_exporter": "python",
   "pygments_lexer": "ipython3",
   "version": "3.10.5"
  }
 },
 "nbformat": 4,
 "nbformat_minor": 5
}
