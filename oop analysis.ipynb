{
 "cells": [
  {
   "cell_type": "code",
   "execution_count": 1,
   "id": "c8386be8",
   "metadata": {},
   "outputs": [],
   "source": [
    "from matplotlib import pyplot as plt\n",
    "import seaborn as sns\n",
    "import pandas as pd\n",
    "import numpy as np"
   ]
  },
  {
   "cell_type": "markdown",
   "id": "b07c1968",
   "metadata": {},
   "source": [
    "# batsman class"
   ]
  },
  {
   "cell_type": "code",
   "execution_count": 2,
   "id": "d6bef0d0",
   "metadata": {},
   "outputs": [],
   "source": [
    "class batsman:\n",
    "    data=pd.read_csv('Batsman_Data.csv',sep=\",\")\n",
    "    df=pd.DataFrame(data)"
   ]
  },
  {
   "cell_type": "markdown",
   "id": "f822cf63",
   "metadata": {},
   "source": [
    "# Bolwer class"
   ]
  },
  {
   "cell_type": "code",
   "execution_count": 3,
   "id": "d2ce5c3f",
   "metadata": {},
   "outputs": [],
   "source": [
    "class bowler:\n",
    "    data=pd.read_csv('Bowler_data.csv',sep=\",\")\n",
    "    df=pd.DataFrame(data) "
   ]
  },
  {
   "cell_type": "markdown",
   "id": "ba73652c",
   "metadata": {},
   "source": [
    "# ground class"
   ]
  },
  {
   "cell_type": "code",
   "execution_count": 4,
   "id": "2854b862",
   "metadata": {},
   "outputs": [],
   "source": [
    "class grounds:\n",
    "    data=pd.read_csv('Ground_Averages.csv',sep=\",\")\n",
    "    df=pd.DataFrame(data)"
   ]
  },
  {
   "cell_type": "markdown",
   "id": "361c3e00",
   "metadata": {},
   "source": [
    "# result class"
   ]
  },
  {
   "cell_type": "code",
   "execution_count": 5,
   "id": "8eb6b4a9",
   "metadata": {},
   "outputs": [],
   "source": [
    "class result:\n",
    "    data=pd.read_csv('ODI_Match_Results.csv',sep=\",\")\n",
    "    df=pd.DataFrame(data)"
   ]
  },
  {
   "cell_type": "markdown",
   "id": "309913af",
   "metadata": {},
   "source": [
    "# matches class "
   ]
  },
  {
   "cell_type": "code",
   "execution_count": 6,
   "id": "778201ad",
   "metadata": {},
   "outputs": [],
   "source": [
    "class matches:\n",
    "    data=pd.read_csv('ODI_Match_Totals.csv',sep=\",\")\n",
    "    df=pd.DataFrame(data)"
   ]
  },
  {
   "cell_type": "markdown",
   "id": "602c3304",
   "metadata": {},
   "source": [
    "# players class "
   ]
  },
  {
   "cell_type": "code",
   "execution_count": 7,
   "id": "858a886c",
   "metadata": {},
   "outputs": [],
   "source": [
    "class players:\n",
    "    data=pd.read_csv('WC_players.csv',sep=\",\")\n",
    "    df=pd.DataFrame(data)"
   ]
  },
  {
   "cell_type": "markdown",
   "id": "6f14755f",
   "metadata": {},
   "source": [
    "# objects"
   ]
  },
  {
   "cell_type": "code",
   "execution_count": 10,
   "id": "9c8fa2a4",
   "metadata": {},
   "outputs": [],
   "source": [
    "bat=batsman()\n",
    "ball=bowler()\n",
    "ground = grounds()\n",
    "match=matches()\n",
    "player=players()"
   ]
  },
  {
   "cell_type": "code",
   "execution_count": null,
   "id": "d8ae4d01",
   "metadata": {},
   "outputs": [],
   "source": [
    "\n"
   ]
  },
  {
   "cell_type": "code",
   "execution_count": null,
   "id": "a4836b88",
   "metadata": {},
   "outputs": [],
   "source": []
  }
 ],
 "metadata": {
  "kernelspec": {
   "display_name": "Python 3 (ipykernel)",
   "language": "python",
   "name": "python3"
  },
  "language_info": {
   "codemirror_mode": {
    "name": "ipython",
    "version": 3
   },
   "file_extension": ".py",
   "mimetype": "text/x-python",
   "name": "python",
   "nbconvert_exporter": "python",
   "pygments_lexer": "ipython3",
   "version": "3.10.5"
  }
 },
 "nbformat": 4,
 "nbformat_minor": 5
}
